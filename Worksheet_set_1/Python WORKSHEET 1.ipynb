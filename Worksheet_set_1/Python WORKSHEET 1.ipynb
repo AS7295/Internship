{
 "cells": [
  {
   "cell_type": "markdown",
   "id": "046e762f",
   "metadata": {},
   "source": [
    "# Python Worksheet 1"
   ]
  },
  {
   "cell_type": "raw",
   "id": "5441505f",
   "metadata": {},
   "source": [
    "1. Which of the following operators is used to calculate remainder in a division?\n",
    "A) # \n",
    "B) & \n",
    "C) % \n",
    "D) $\n",
    "\n",
    "Answer: C)%"
   ]
  },
  {
   "cell_type": "raw",
   "id": "c7e63332",
   "metadata": {},
   "source": [
    "2. In python 2//3 is equal to?\n",
    "A) 0.666 \n",
    "B) 0\n",
    "C) 1 \n",
    "D) 0.67\n",
    "\n",
    "Answer: B) 0"
   ]
  },
  {
   "cell_type": "code",
   "execution_count": 1,
   "id": "27549108",
   "metadata": {},
   "outputs": [
    {
     "data": {
      "text/plain": [
       "0"
      ]
     },
     "execution_count": 1,
     "metadata": {},
     "output_type": "execute_result"
    }
   ],
   "source": [
    "2//3 # Floor Division"
   ]
  },
  {
   "cell_type": "raw",
   "id": "06c05d90",
   "metadata": {},
   "source": [
    "3.In python, 6<<2 is equal to?\n",
    "A) 36 \n",
    "B) 10\n",
    "C) 24 \n",
    "D) 45\n",
    "\n",
    "Answer: c)24"
   ]
  },
  {
   "cell_type": "code",
   "execution_count": 2,
   "id": "7ec6f68e",
   "metadata": {},
   "outputs": [
    {
     "data": {
      "text/plain": [
       "24"
      ]
     },
     "execution_count": 2,
     "metadata": {},
     "output_type": "execute_result"
    }
   ],
   "source": [
    "''' binary value of 6 = (0000 0110)2  . now when it will be shifted 2 placed than it will be (0001 1000)2.\n",
    "and in decimal it will be (0001 1000)2 = (24)10'''\n",
    "6<<2"
   ]
  },
  {
   "cell_type": "raw",
   "id": "98835e2c",
   "metadata": {},
   "source": [
    "4. In python, 6&2 will give which of the following as output?\n",
    "A) 2 \n",
    "B) True\n",
    "C) False \n",
    "D) 0\n",
    "\n",
    "Answer: A) 2"
   ]
  },
  {
   "cell_type": "code",
   "execution_count": 3,
   "id": "b3ede469",
   "metadata": {},
   "outputs": [
    {
     "data": {
      "text/plain": [
       "2"
      ]
     },
     "execution_count": 3,
     "metadata": {},
     "output_type": "execute_result"
    }
   ],
   "source": [
    "'''\n",
    "(6)10=(0000 0110)2\n",
    "(2)10=(0000 0010)2\n",
    "for'Bitwise and operator' it will take (0000 0010)2 as in both the binary number in 2^1 position is matched.\n",
    "hence (0000 0010)2=(2)10\n",
    "'''\n",
    "6&2"
   ]
  },
  {
   "cell_type": "raw",
   "id": "591007c1",
   "metadata": {},
   "source": [
    "5. In python, 6|2 will give which of the following as output?\n",
    "A) 2 \n",
    "B) 4\n",
    "C) 0 \n",
    "D) 6\n",
    "\n",
    "Answer: D) 6"
   ]
  },
  {
   "cell_type": "code",
   "execution_count": 4,
   "id": "838a05c3",
   "metadata": {},
   "outputs": [
    {
     "data": {
      "text/plain": [
       "6"
      ]
     },
     "execution_count": 4,
     "metadata": {},
     "output_type": "execute_result"
    }
   ],
   "source": [
    "'''\n",
    "(6)10=(0000 0110)2\n",
    "(2)10=(0000 0010)2\n",
    "for 'bitwise or operator' binary output will be (0000 0110)2=(6)10\n",
    "'''\n",
    "6|2"
   ]
  },
  {
   "cell_type": "raw",
   "id": "bbc9ab82",
   "metadata": {},
   "source": [
    "6. What does the finally keyword denotes in python?\n",
    "A) It is used to mark the end of the code\n",
    "B) It encloses the lines of code which will be executed if any error occurs while executing the lines of code in the try block.\n",
    "C) the finally block will be executed no matter if the try block raises an error or not.\n",
    "D) None of the above.\n",
    "\n",
    "Answer: C) the finally block will be executed no matter if the try block raises an error or not."
   ]
  },
  {
   "cell_type": "raw",
   "id": "73b2f2cf",
   "metadata": {},
   "source": [
    "7. What does raise keyword is used for in python?\n",
    "A) It is used to raise an exception. \n",
    "B) It is used to define lambda function\n",
    "C) it's not a keyword in python. \n",
    "D) None of the above\n",
    "\n",
    "Answer: A)It is used to raise an exception."
   ]
  },
  {
   "cell_type": "raw",
   "id": "8acdaf69",
   "metadata": {},
   "source": [
    "8. Which of the following is a common use case of yield keyword in python?\n",
    "A) in defining an iterator \n",
    "B) while defining a lambda function\n",
    "C) in defining a generator \n",
    "D) in for loop.\n",
    "\n",
    "Answer: C) in defining a generator"
   ]
  },
  {
   "cell_type": "raw",
   "id": "b2195eb3",
   "metadata": {},
   "source": [
    "9. Which of the following are the valid variable names?\n",
    "A) _abc \n",
    "B) 1abc\n",
    "C) abc2 \n",
    "D) None of the above\n",
    "\n",
    "Answer: A) _abc  and C) abc2 "
   ]
  },
  {
   "cell_type": "raw",
   "id": "193b9224",
   "metadata": {},
   "source": [
    "10. Which of the following are the keywords in python?\n",
    "A) yield \n",
    "B) raise\n",
    "C) look-in \n",
    "D) all of the above\n",
    "\n",
    "Answer: A) yeild and B) raise"
   ]
  },
  {
   "cell_type": "code",
   "execution_count": 5,
   "id": "5136ca89",
   "metadata": {},
   "outputs": [
    {
     "name": "stdout",
     "output_type": "stream",
     "text": [
      "Enter a number to find factorial of it : 7\n",
      "factorial of given number= 5040\n"
     ]
    }
   ],
   "source": [
    "#11. Write a python program to find the factorial of a number.\n",
    "\n",
    "x=int(input(\"Enter a number to find factorial of it : \"))\n",
    "factorial=1\n",
    "for i in range(1,(x+1)):\n",
    "    factorial=factorial*i\n",
    "print(\"factorial of given number= {}\".format(factorial))"
   ]
  },
  {
   "cell_type": "code",
   "execution_count": 6,
   "id": "1f06c589",
   "metadata": {},
   "outputs": [
    {
     "name": "stdout",
     "output_type": "stream",
     "text": [
      "Enter a number to check wheather prime or not : 13\n",
      "13 ia a prime number.\n"
     ]
    }
   ],
   "source": [
    "#12. Write a python program to find whether a number is prime or composite.\n",
    "\n",
    "x=int(input(\"Enter a number to check wheather prime or not : \"))\n",
    "\n",
    "if x>1:\n",
    "    for i in range(2,x):\n",
    "        if x%i==0:\n",
    "            print(\"{} is a composite number.\".format(x))\n",
    "            break\n",
    "    else:\n",
    "        print(\"{} ia a prime number.\".format(x))\n",
    "else:\n",
    "    print(x,\" is a not prime number\")"
   ]
  },
  {
   "cell_type": "code",
   "execution_count": 7,
   "id": "1454a9fd",
   "metadata": {},
   "outputs": [
    {
     "name": "stdout",
     "output_type": "stream",
     "text": [
      "Enter String to check wheather palindrome or not :  madam\n",
      "'madam'is a palindrome string\n"
     ]
    }
   ],
   "source": [
    "#13 Write a python program to check whether a given string is palindrome or not.\n",
    "s=input(\"Enter String to check wheather palindrome or not :  \")\n",
    "\n",
    "l=s.lower()\n",
    "x=list(l)\n",
    "y=[]\n",
    "for i in x:\n",
    "    if i.isalpha():\n",
    "        y.append(i)\n",
    "\n",
    "a=[]\n",
    "a.extend(y)\n",
    "y.reverse()\n",
    "\n",
    "if a==y:\n",
    "    print(\"'{}'is a palindrome string\".format(s))\n",
    "else:\n",
    "    print(\"'{}'is not a palindrome string.\".format(s))"
   ]
  },
  {
   "cell_type": "code",
   "execution_count": 8,
   "id": "14973dbb",
   "metadata": {},
   "outputs": [],
   "source": [
    "#14. Write a Python program to get the third side of right-angled triangle from two given sides.\n",
    "\n",
    "def third_side(a,b,c):\n",
    "    if a==str(\"x\"):\n",
    "        return ((c**2)-(b**2))**0.5\n",
    "    elif b==str(\"x\"):\n",
    "        return ((c**2)-(a**2))**0.5\n",
    "    elif c==str(\"x\"):\n",
    "        return ((a**2)+(b**2))**0.5\n",
    "    else:\n",
    "        print(\"three sides of right angle triangle is known to us.\")\n"
   ]
  },
  {
   "cell_type": "code",
   "execution_count": 9,
   "id": "d838f9cc",
   "metadata": {},
   "outputs": [
    {
     "name": "stdout",
     "output_type": "stream",
     "text": [
      "4.0\n",
      "8.0\n",
      "5.0\n"
     ]
    }
   ],
   "source": [
    "# checking each condition:\n",
    "thirdside=third_side(3,'x',5)\n",
    "print(thirdside)\n",
    "\n",
    "\n",
    "thirdside=third_side('x',6,10)\n",
    "print(thirdside)\n",
    "\n",
    "\n",
    "thirdside=third_side(3,4,'x')\n",
    "print(thirdside)\n"
   ]
  },
  {
   "cell_type": "code",
   "execution_count": 10,
   "id": "e67a2088",
   "metadata": {},
   "outputs": [
    {
     "name": "stdout",
     "output_type": "stream",
     "text": [
      "Enter a string :Hello FlipRobo. I am Animesh Samanta. I am an Intern of your esteemed organisation.\n",
      "frequency of all character{'H': 1, 'e': 7, 'l': 3, 'o': 7, ' ': 13, 'F': 1, 'i': 4, 'p': 1, 'R': 1, 'b': 1, '.': 3, 'I': 3, 'a': 8, 'm': 5, 'A': 1, 'n': 7, 's': 3, 'h': 1, 'S': 1, 't': 4, 'r': 3, 'f': 1, 'y': 1, 'u': 1, 'd': 1, 'g': 1}\n"
     ]
    }
   ],
   "source": [
    "#15. Write a python program to print the frequency of each of the characters present in a given string.\n",
    "\n",
    "test_str =input(\"Enter a string :\")\n",
    "\n",
    "all_freq = {}\n",
    " \n",
    "for i in test_str:\n",
    "    if i in all_freq:\n",
    "        all_freq[i] += 1\n",
    "    else:\n",
    "        all_freq[i] = 1 \n",
    "print(\"frequency of all character\"\n",
    "      + str(all_freq))"
   ]
  },
  {
   "cell_type": "code",
   "execution_count": null,
   "id": "5b0d411a",
   "metadata": {},
   "outputs": [],
   "source": []
  }
 ],
 "metadata": {
  "kernelspec": {
   "display_name": "Python 3 (ipykernel)",
   "language": "python",
   "name": "python3"
  },
  "language_info": {
   "codemirror_mode": {
    "name": "ipython",
    "version": 3
   },
   "file_extension": ".py",
   "mimetype": "text/x-python",
   "name": "python",
   "nbconvert_exporter": "python",
   "pygments_lexer": "ipython3",
   "version": "3.9.13"
  }
 },
 "nbformat": 4,
 "nbformat_minor": 5
}
