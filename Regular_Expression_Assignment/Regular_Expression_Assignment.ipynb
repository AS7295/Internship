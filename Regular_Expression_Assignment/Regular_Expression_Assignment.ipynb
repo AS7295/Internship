{
 "cells": [
  {
   "cell_type": "markdown",
   "id": "d96a3d67",
   "metadata": {},
   "source": [
    "# Regular Expression Assignment"
   ]
  },
  {
   "cell_type": "code",
   "execution_count": 1,
   "id": "c665ad42",
   "metadata": {},
   "outputs": [],
   "source": [
    "# importing regex library\n",
    "import regex as re"
   ]
  },
  {
   "cell_type": "markdown",
   "id": "bc0455e7",
   "metadata": {},
   "source": [
    "# Question 1- \n",
    "Write a Python program to check that a string contains only a certain set of characters (in this case a-z, A-Z and 0-9)."
   ]
  },
  {
   "cell_type": "code",
   "execution_count": 2,
   "id": "6ca95ec2",
   "metadata": {},
   "outputs": [],
   "source": [
    "# defing a function that will check only a certain set of charecters\n",
    "def only_certain_set_of_char(string):\n",
    "    pattern= r\"[^a-zA-Z0-9]\"\n",
    "    matches=re.search(pattern,string)\n",
    "    return not bool(matches)"
   ]
  },
  {
   "cell_type": "code",
   "execution_count": 3,
   "id": "3e68401f",
   "metadata": {},
   "outputs": [
    {
     "name": "stdout",
     "output_type": "stream",
     "text": [
      "(1) True\n",
      "(2) False\n",
      "(3) False\n"
     ]
    }
   ],
   "source": [
    "# Checking whether it works or not\n",
    "# 1. string contains all the specified char\n",
    "print(\"(1)\", only_certain_set_of_char(\"ABCSpqrs1267\")) \n",
    "\n",
    "# 2. String does not have all specified char\n",
    "print(\"(2)\", only_certain_set_of_char(\"!@#$%&~#@\"))\n",
    "\n",
    "# 3. String contains all specified char along with that string contains some special char\n",
    "print(\"(3)\", only_certain_set_of_char(\"AGuLPrt4580fFjy!@#$,%_\"))"
   ]
  },
  {
   "cell_type": "markdown",
   "id": "07c89d34",
   "metadata": {},
   "source": [
    "# Question 2- \n",
    "Create a function in python that matches a string that has an a followed by zero or more b's"
   ]
  },
  {
   "cell_type": "code",
   "execution_count": 4,
   "id": "142d3849",
   "metadata": {},
   "outputs": [
    {
     "name": "stdout",
     "output_type": "stream",
     "text": [
      "Case 1 : True\n",
      "Case 2 : False\n",
      "Case 3 : True\n",
      "Case 4 : False\n",
      "Case 5 : True\n"
     ]
    }
   ],
   "source": [
    "#defining the function as per question 2\n",
    "def question_2(string):\n",
    "    pattern=r\"^a(b*)$\"\n",
    "    matches=re.search(pattern,string)\n",
    "    return bool(matches)\n",
    "\n",
    "#cheaking conditions\n",
    "print(\"Case 1 :\",question_2(\"abb\"))\n",
    "print(\"Case 2 :\",question_2(\"ac\"))\n",
    "print(\"Case 3 :\",question_2(\"ab\"))\n",
    "print(\"Case 4 :\",question_2(\"abbx\"))\n",
    "print(\"Case 5 :\",question_2(\"a\")) "
   ]
  },
  {
   "cell_type": "markdown",
   "id": "2ba6262b",
   "metadata": {},
   "source": [
    "# Question 3-  \n",
    "Create a function in python that matches a string that has an a followed by one or more b's"
   ]
  },
  {
   "cell_type": "code",
   "execution_count": 5,
   "id": "41c4cf1a",
   "metadata": {},
   "outputs": [
    {
     "name": "stdout",
     "output_type": "stream",
     "text": [
      "Case 1 : True\n",
      "Case 2 : False\n",
      "Case 3 : True\n",
      "Case 4 : False\n",
      "Case 5 : False\n"
     ]
    }
   ],
   "source": [
    "#defining the function as per question 3\n",
    "def question_3(string):\n",
    "    pattern=r\"^a(b+)$\"\n",
    "    matches=re.search(pattern,string)\n",
    "    return bool(matches)\n",
    "\n",
    "#cheaking conditions\n",
    "print(\"Case 1 :\",question_3(\"abb\"))\n",
    "print(\"Case 2 :\",question_3(\"ac\"))\n",
    "print(\"Case 3 :\",question_3(\"ab\"))\n",
    "print(\"Case 4 :\",question_3(\"abbx\"))\n",
    "print(\"Case 5 :\",question_3(\"a\"))"
   ]
  },
  {
   "cell_type": "markdown",
   "id": "45776d4c",
   "metadata": {},
   "source": [
    "# Question 4- \n",
    "Create a function in Python and use RegEx that matches a string that has an a followed by zero or one 'b'."
   ]
  },
  {
   "cell_type": "code",
   "execution_count": 6,
   "id": "9f6a4163",
   "metadata": {},
   "outputs": [
    {
     "name": "stdout",
     "output_type": "stream",
     "text": [
      "Case 1 : False\n",
      "Case 2 : False\n",
      "Case 3 : True\n",
      "Case 4 : False\n",
      "Case 5 : True\n"
     ]
    }
   ],
   "source": [
    "#defining the function as per question 4\n",
    "def question_4(string):\n",
    "    pattern=r\"^a(b?)$\"\n",
    "    matches=re.search(pattern,string)\n",
    "    return bool(matches)\n",
    "\n",
    "#cheaking conditions\n",
    "print(\"Case 1 :\",question_4(\"abb\"))\n",
    "print(\"Case 2 :\",question_4(\"ac\"))\n",
    "print(\"Case 3 :\",question_4(\"ab\"))\n",
    "print(\"Case 4 :\",question_4(\"abbx\"))\n",
    "print(\"Case 5 :\",question_4(\"a\"))"
   ]
  },
  {
   "cell_type": "markdown",
   "id": "702e90bc",
   "metadata": {},
   "source": [
    "# Question 5- \n",
    "Write a Python program that matches a string that has an a followed by three 'b'."
   ]
  },
  {
   "cell_type": "code",
   "execution_count": 7,
   "id": "7c5c88cc",
   "metadata": {},
   "outputs": [
    {
     "name": "stdout",
     "output_type": "stream",
     "text": [
      "Case 1 : True\n",
      "Case 2 : False\n",
      "Case 3 : False\n",
      "Case 4 : False\n",
      "Case 5 : False\n"
     ]
    }
   ],
   "source": [
    "#defining the function as per question 5\n",
    "def question_5(string):\n",
    "    pattern=r\"^a(b{3})$\"\n",
    "    matches=re.search(pattern,string)\n",
    "    return bool(matches)\n",
    "\n",
    "#cheaking conditions\n",
    "print(\"Case 1 :\",question_5(\"abbb\"))\n",
    "print(\"Case 2 :\",question_5(\"ac\"))\n",
    "print(\"Case 3 :\",question_5(\"ab\"))\n",
    "print(\"Case 4 :\",question_5(\"abbbb\"))\n",
    "print(\"Case 5 :\",question_5(\"a\"))"
   ]
  },
  {
   "cell_type": "markdown",
   "id": "d3ad8620",
   "metadata": {},
   "source": [
    "# Question 6- \n",
    "Write a regular expression in Python to split a string into uppercase letters.\n",
    "Sample text: “ImportanceOfRegularExpressionsInPython”\n",
    "Output: [‘Importance’, ‘Of’, ‘Regular’, ‘Expression’, ‘In’, ‘Python’]\n"
   ]
  },
  {
   "cell_type": "code",
   "execution_count": 8,
   "id": "91c93777",
   "metadata": {},
   "outputs": [
    {
     "name": "stdout",
     "output_type": "stream",
     "text": [
      "['Importance', 'Of', 'Regular', 'Expressions', 'In', 'Python']\n"
     ]
    }
   ],
   "source": [
    "text=\"ImportanceOfRegularExpressionsInPython\"\n",
    "pattern=r'[A-Z][a-z]+'\n",
    "matches=re.findall(pattern,text)\n",
    "print(matches)"
   ]
  },
  {
   "cell_type": "markdown",
   "id": "a93b8c79",
   "metadata": {},
   "source": [
    "# Question 7- \n",
    "Write a Python program that matches a string that has an a followed by two to three 'b'."
   ]
  },
  {
   "cell_type": "code",
   "execution_count": 9,
   "id": "dc5342bd",
   "metadata": {},
   "outputs": [
    {
     "name": "stdout",
     "output_type": "stream",
     "text": [
      "Case 1 : True\n",
      "Case 2 : False\n",
      "Case 3 : True\n",
      "Case 4 : False\n",
      "Case 5 : False\n"
     ]
    }
   ],
   "source": [
    "#defining the function as per question 7\n",
    "def question_7(string):\n",
    "    pattern=r\"^a(b{2,3})$\"\n",
    "    matches=re.search(pattern,string)\n",
    "    return bool(matches)\n",
    "\n",
    "#cheaking conditions\n",
    "print(\"Case 1 :\",question_7(\"abbb\"))\n",
    "print(\"Case 2 :\",question_7(\"ac\"))\n",
    "print(\"Case 3 :\",question_7(\"abb\"))\n",
    "print(\"Case 4 :\",question_7(\"abbbb\"))\n",
    "print(\"Case 5 :\",question_7(\"ab\"))"
   ]
  },
  {
   "cell_type": "markdown",
   "id": "2497cd1a",
   "metadata": {},
   "source": [
    "# Question 8- \n",
    "Write a Python program to find sequences of lowercase letters joined with a underscore."
   ]
  },
  {
   "cell_type": "code",
   "execution_count": 10,
   "id": "94ddc136",
   "metadata": {},
   "outputs": [
    {
     "name": "stdout",
     "output_type": "stream",
     "text": [
      "['regular_expression', 'several_methods', 'search_method', 'findall_method', 'match_mrthod', 'substitute_method']\n"
     ]
    }
   ],
   "source": [
    "#defining the function as per question 8\n",
    "def lowercase_underscore(string):\n",
    "    pattern=r\"[a-z]+_[a-z]+\"\n",
    "    matches=re.findall(pattern,string)\n",
    "    return matches\n",
    "\n",
    "text=\"We are doing Assignment of regular_expression. this assignment contains several_methods which includes search_method, findall_method, match_mrthod and substitute_method.\"\n",
    "print(lowercase_underscore(text))\n"
   ]
  },
  {
   "cell_type": "markdown",
   "id": "26837d7f",
   "metadata": {},
   "source": [
    "# Question 9-\n",
    "Write a Python program that matches a string that has an 'a' followed by anything, ending in 'b'."
   ]
  },
  {
   "cell_type": "code",
   "execution_count": 11,
   "id": "f2e60987",
   "metadata": {},
   "outputs": [
    {
     "name": "stdout",
     "output_type": "stream",
     "text": [
      "Case 1 : True\n",
      "Case 2 : True\n",
      "Case 3 : True\n",
      "Case 4 : False\n",
      "Case 5 : False\n"
     ]
    }
   ],
   "source": [
    "#defining the function as per question 9\n",
    "def question_9(string):\n",
    "    pattern=\"^a.*b$\"\n",
    "    matches=re.search(pattern,string)\n",
    "    return bool(matches)\n",
    "\n",
    "#cheaking conditions\n",
    "print(\"Case 1 :\",question_9(\"abbb\"))\n",
    "print(\"Case 2 :\",question_9(\"acdb\"))\n",
    "print(\"Case 3 :\",question_9(\"abbcfb\"))\n",
    "print(\"Case 4 :\",question_9(\"abbbbg\"))\n",
    "print(\"Case 5 :\",question_9(\"abc\"))"
   ]
  },
  {
   "cell_type": "markdown",
   "id": "fdb97ee1",
   "metadata": {},
   "source": [
    "# Question 10- \n",
    "Write a Python program that matches a word at the beginning of a string."
   ]
  },
  {
   "cell_type": "code",
   "execution_count": 12,
   "id": "de73ea55",
   "metadata": {},
   "outputs": [
    {
     "name": "stdout",
     "output_type": "stream",
     "text": [
      "case 1 : matched.\n",
      "case 2 : Not matched.\n"
     ]
    }
   ],
   "source": [
    "#defining the function as per question 10\n",
    "def text_match(string):\n",
    "        pattern = '^\\w+'\n",
    "        if re.search(pattern,string):\n",
    "                return (\"matched.\")\n",
    "        else:\n",
    "                return (\"Not matched.\")\n",
    "\n",
    "#cheaking conditions            \n",
    "print(\"case 1 :\",text_match(\"We are hare to learn Regular Expression.\"))\n",
    "print(\"case 2 :\",text_match(\"# symbol is used to tag in social media\"))"
   ]
  },
  {
   "cell_type": "markdown",
   "id": "5787b3a8",
   "metadata": {},
   "source": [
    "# Question 11- \n",
    "Write a Python program to match a string that contains only upper and lowercase letters, numbers, and underscores."
   ]
  },
  {
   "cell_type": "code",
   "execution_count": 13,
   "id": "7f21a438",
   "metadata": {},
   "outputs": [
    {
     "name": "stdout",
     "output_type": "stream",
     "text": [
      "case 1 : Pattern matched.\n",
      "Case 2 : Pattern not matched.\n"
     ]
    }
   ],
   "source": [
    "#defining the function as per question 11\n",
    "def question_11(string):\n",
    "    pattern=r\"^[A-Za-z0-9_]*$\"\n",
    "    if re.search(pattern,string):\n",
    "        return (\"Pattern matched.\")\n",
    "    else:\n",
    "        return (\"Pattern not matched.\")\n",
    "    \n",
    "#cheaking conditions\n",
    "print(\"case 1 :\",question_11(\"we_are_hare_to_learn_regular_expression_and_work_is_scheduled_from_10AM_to_5_PM\"))\n",
    "print(\"Case 2 :\",question_11(\"we are hare to learn regular expression and work is scheduled from 10 AM to 5 PM.\"))"
   ]
  },
  {
   "cell_type": "markdown",
   "id": "09a314b9",
   "metadata": {},
   "source": [
    "# Question 12- \n",
    "Write a Python program where a string will start with a specific number. "
   ]
  },
  {
   "cell_type": "code",
   "execution_count": 14,
   "id": "f6dea682",
   "metadata": {},
   "outputs": [
    {
     "name": "stdout",
     "output_type": "stream",
     "text": [
      "Case 1 : Pattern Matched\n",
      "Case 2 : Pattern not Matched\n"
     ]
    }
   ],
   "source": [
    "#defining the function as per question 12\n",
    "def question_12(string):\n",
    "    pattern=\"^[0-9]+.*\"\n",
    "    if re.search(pattern,string):\n",
    "        return (\"Pattern Matched\")\n",
    "    else:\n",
    "        return (\"Pattern not Matched\")\n",
    "\n",
    "#cheaking conditions\n",
    "print(\"Case 1 :\",question_12(\"150 is the score of west indies in the first innings.\"))\n",
    "print(\"Case 2 :\",question_12(\"West indied  has scored 150 in the first innings.\"))"
   ]
  },
  {
   "cell_type": "markdown",
   "id": "a5210eb4",
   "metadata": {},
   "source": [
    "# Question 13- \n",
    "Write a Python program to remove leading zeros from an IP address"
   ]
  },
  {
   "cell_type": "code",
   "execution_count": 15,
   "id": "f5906e7b",
   "metadata": {},
   "outputs": [
    {
     "name": "stdout",
     "output_type": "stream",
     "text": [
      "255.67.22.28\n"
     ]
    }
   ],
   "source": [
    "ip = \"255.067.022.028\"\n",
    "string = re.sub('\\.0*', '.', ip)\n",
    "print(string)"
   ]
  },
  {
   "cell_type": "markdown",
   "id": "774f7718",
   "metadata": {},
   "source": [
    "# Question 14- \n",
    "Write a regular expression in python to match a date string in the form of Month name followed by day number and year stored in a text file.\n",
    "Sample text : ' On August 15th 1947 that India was declared independent from British colonialism, and the reins of control were handed over to the leaders of the Country’.\n",
    "Output- August 15th 1947\n"
   ]
  },
  {
   "cell_type": "code",
   "execution_count": 16,
   "id": "9990fd88",
   "metadata": {},
   "outputs": [
    {
     "name": "stdout",
     "output_type": "stream",
     "text": [
      "August 15th 1947\n"
     ]
    }
   ],
   "source": [
    "string=\" On August 15th 1947 that India was declared independent from British colonialism, and the reins of control were handed over to the leaders of the Country\"\n",
    "pattern=\"[A-Za-z]+\\s*\\d{2}\\w{2}\\s*\\d{4}\"\n",
    "matches=re.search(pattern,string)\n",
    "print(matches.group())"
   ]
  },
  {
   "cell_type": "markdown",
   "id": "d552edb7",
   "metadata": {},
   "source": [
    "# Question 15- \n",
    "Write a Python program to search some literals strings in a string. Go to the editor\n",
    "Sample text : 'The quick brown fox jumps over the lazy dog.'\n",
    "Searched words : 'fox', 'dog', 'horse'\n"
   ]
  },
  {
   "cell_type": "code",
   "execution_count": 17,
   "id": "99d4c1f9",
   "metadata": {},
   "outputs": [
    {
     "name": "stdout",
     "output_type": "stream",
     "text": [
      "looking for fox in The quick brown fox jumps over the lazy dog.\n",
      "Matched\n",
      "looking for dog in The quick brown fox jumps over the lazy dog.\n",
      "Matched\n",
      "looking for horse in The quick brown fox jumps over the lazy dog.\n",
      "Not Matched\n"
     ]
    }
   ],
   "source": [
    "ptrns = [ 'fox', 'dog', 'horse' ]\n",
    "text = 'The quick brown fox jumps over the lazy dog.'\n",
    "for pattern in ptrns:\n",
    "    print('looking for {} in {}'.format(pattern, text))\n",
    "    if re.search(pattern,text):\n",
    "        print('Matched')\n",
    "    else:\n",
    "        print('Not Matched')"
   ]
  },
  {
   "cell_type": "markdown",
   "id": "50d5db6f",
   "metadata": {},
   "source": [
    "# Question 16-\n",
    "Write a Python program to search a literals string in a string and also find the location within the original string where the pattern occurs\n",
    "Sample text : 'The quick brown fox jumps over the lazy dog.'\n",
    "Searched words : 'fox'\n"
   ]
  },
  {
   "cell_type": "code",
   "execution_count": 18,
   "id": "2aa13d09",
   "metadata": {},
   "outputs": [
    {
     "name": "stdout",
     "output_type": "stream",
     "text": [
      "text literal is 'fox'and location of the searched text is (16, 19).\n"
     ]
    }
   ],
   "source": [
    "pattern='fox'\n",
    "text = 'The quick brown fox jumps over the lazy dog.'\n",
    "match=re.search(pattern,text)\n",
    "print(\"text literal is '{}'and location of the searched text is {}.\".format(match.group(),match.span()))"
   ]
  },
  {
   "cell_type": "markdown",
   "id": "d14bf364",
   "metadata": {},
   "source": [
    "# Question 17- \n",
    "Write a Python program to find the substrings within a string.\n",
    "Sample text : 'Python exercises, PHP exercises, C# exercises'\n",
    "Pattern : 'exercises'.\n"
   ]
  },
  {
   "cell_type": "code",
   "execution_count": 19,
   "id": "6a1bcb72",
   "metadata": {},
   "outputs": [
    {
     "name": "stdout",
     "output_type": "stream",
     "text": [
      "Match found : exercises\n",
      "Match found : exercises\n",
      "Match found : exercises\n"
     ]
    }
   ],
   "source": [
    "pattern='exercises'\n",
    "text='Python exercises, PHP exercises, C# exercises'\n",
    "for match in re.findall(pattern,text):\n",
    "    print(\"Match found :\",match)"
   ]
  },
  {
   "cell_type": "markdown",
   "id": "80eb253d",
   "metadata": {},
   "source": [
    "# Question 18-\n",
    "Write a Python program to find the occurrence and position of the substrings within a string."
   ]
  },
  {
   "cell_type": "code",
   "execution_count": 20,
   "id": "939f7e0c",
   "metadata": {},
   "outputs": [
    {
     "name": "stdout",
     "output_type": "stream",
     "text": [
      "exercises  is at position  (7, 16)\n",
      "exercises  is at position  (22, 31)\n",
      "exercises  is at position  (36, 45)\n"
     ]
    }
   ],
   "source": [
    "text = 'Python exercises, PHP exercises, C# exercises'\n",
    "pattern = 'exercises'\n",
    "matches=re.finditer(pattern, text)\n",
    "for match in matches:\n",
    "    print(match.group(), \" is at position \",match.span())"
   ]
  },
  {
   "cell_type": "markdown",
   "id": "ee4a674e",
   "metadata": {},
   "source": [
    "# Question 19- \n",
    "Write a Python program to convert a date of yyyy-mm-dd format to dd-mm-yyyy format."
   ]
  },
  {
   "cell_type": "code",
   "execution_count": 21,
   "id": "06690e7a",
   "metadata": {},
   "outputs": [
    {
     "name": "stdout",
     "output_type": "stream",
     "text": [
      "India vs West Indies match fixtures are on date 12-07-2023, 20-07-2023, 27-07-2023, 29-07-2023, 01-08-2023, 03-08-2023, 06-08-2023, 08-08-2023, 12-08-2023 and 13-08-2023.\n"
     ]
    }
   ],
   "source": [
    "string= \"India vs West Indies match fixtures are on date 2023-07-12, 2023-07-20, 2023-07-27, 2023-07-29, 2023-08-01, 2023-08-03, 2023-08-06, 2023-08-08, 2023-08-12 and 2023-08-13.\" \n",
    "pattern=r\"(\\d{4})-(\\d{2})-(\\d{2})\"\n",
    "replace=r\"\\3-\\2-\\1\"\n",
    "new_string=re.sub(pattern,replace,string)\n",
    "print(new_string)"
   ]
  },
  {
   "cell_type": "markdown",
   "id": "1868eddf",
   "metadata": {},
   "source": [
    "# Question 20- \n",
    "Write a Python program to find all words starting with 'a' or 'e' in a given string."
   ]
  },
  {
   "cell_type": "code",
   "execution_count": 22,
   "id": "23232010",
   "metadata": {},
   "outputs": [
    {
     "name": "stdout",
     "output_type": "stream",
     "text": [
      "['India', 'West', 'Indies', 'match', 'fixtures']\n",
      "['Ramesh', 'prise', 'competition']\n"
     ]
    }
   ],
   "source": [
    "#defining the function as per question 20\n",
    "def a_or_e(string):\n",
    "    pattern=\"\\w*a\\w*|\\w*e\\w*\"\n",
    "    matches=re.findall(pattern,string)\n",
    "    return matches\n",
    "\n",
    "#cheaking conditions\n",
    "print(a_or_e(\"India vs West Indies match fixtures\"))\n",
    "print(a_or_e(\"Ramesh got first prise in 100 m running competition.\"))"
   ]
  },
  {
   "cell_type": "markdown",
   "id": "496510c6",
   "metadata": {},
   "source": [
    "# Question 21-\n",
    "Write a Python program to separate and print the numbers and their position of a given string."
   ]
  },
  {
   "cell_type": "code",
   "execution_count": 23,
   "id": "5a6ae3ea",
   "metadata": {},
   "outputs": [
    {
     "name": "stdout",
     "output_type": "stream",
     "text": [
      "number = 44 and its position = (22, 24)\n",
      "number = 1 and its position = (42, 43)\n",
      "number = 171 and its position = (134, 137)\n",
      "number = 387 and its position = (146, 149)\n"
     ]
    }
   ],
   "source": [
    "string= \"Rohit Sharma made his 44th century in the 1st test match of India Tour West Indies Tour. Along with that Yashasvi Jaiswal also scored 171 runs in 387 balls and win the man of the match title.\"\n",
    "pattern=r\"\\d+\"\n",
    "matches=re.finditer(pattern,string)\n",
    "for i in matches:\n",
    "    print(\"number = {} and its position = {}\".format(i.group(),i.span()))\n"
   ]
  },
  {
   "cell_type": "markdown",
   "id": "84647d40",
   "metadata": {},
   "source": [
    "# Question 22-\n",
    "Write a regular expression in python program to extract maximum numeric value from a string"
   ]
  },
  {
   "cell_type": "code",
   "execution_count": 24,
   "id": "fd648537",
   "metadata": {},
   "outputs": [
    {
     "name": "stdout",
     "output_type": "stream",
     "text": [
      "171\n"
     ]
    }
   ],
   "source": [
    "#defining the function as per question 22\n",
    "def extract_Maximum_num(string):\n",
    "     numbers = re.findall('\\d+',string)\n",
    "     num_s = map(int,numbers)\n",
    "     print(max(num_s))\n",
    " \n",
    "extract_Maximum_num(\"score of each indivisual india in 1st innings Yashasvi Jaiswal 171, Rohit Sharma 103, Shubman Gill 6, Virat Kohli 76, Ajinkya Rahane 3, Ravindra Jadeja 37, Ishan Kisan 1.\")\n"
   ]
  },
  {
   "cell_type": "markdown",
   "id": "172799a8",
   "metadata": {},
   "source": [
    "# Question 23-\n",
    "Write a Regex in Python to put spaces between words starting with capital letters"
   ]
  },
  {
   "cell_type": "code",
   "execution_count": 25,
   "id": "5de66c3a",
   "metadata": {},
   "outputs": [
    {
     "name": "stdout",
     "output_type": "stream",
     "text": [
      "Sachin Tendulkar Is Known As God Of Indian Cricket.\n"
     ]
    }
   ],
   "source": [
    "#defining the function as per question 23\n",
    "def put_space(string):\n",
    "    words = re.findall(r\"[A-Z][a-z\\.]*\", string)\n",
    "        \n",
    "    print(' '.join(words))\n",
    "     \n",
    "\n",
    "put_space(\"SachinTendulkarIsKnownAsGodOfIndianCricket.\")"
   ]
  },
  {
   "cell_type": "markdown",
   "id": "0ccd8516",
   "metadata": {},
   "source": [
    "# Question 24-\n",
    "Python regex to find sequences of one upper case letter followed by lower case letters"
   ]
  },
  {
   "cell_type": "code",
   "execution_count": 26,
   "id": "0d8c02f7",
   "metadata": {},
   "outputs": [
    {
     "data": {
      "text/plain": [
       "['Sachin', 'Tendulkar', 'Is', 'Known', 'As', 'God', 'Of', 'Indian', 'Cricket.']"
      ]
     },
     "execution_count": 26,
     "metadata": {},
     "output_type": "execute_result"
    }
   ],
   "source": [
    "#defining the function as per question 24\n",
    "def upper_lower(string):\n",
    "    words = re.findall(r\"[A-Z][a-z\\.]*\", string)\n",
    "    return words\n",
    "upper_lower(\"SachinTendulkarIsKnownAsGodOfIndianCricket.\")"
   ]
  },
  {
   "cell_type": "markdown",
   "id": "8e3bc568",
   "metadata": {},
   "source": [
    "# Question 25-\n",
    "Write a Python program to remove duplicate words from Sentence using Regular Expression"
   ]
  },
  {
   "cell_type": "code",
   "execution_count": 27,
   "id": "54dac9a0",
   "metadata": {},
   "outputs": [
    {
     "name": "stdout",
     "output_type": "stream",
     "text": [
      "Hello hi bye tata\n"
     ]
    }
   ],
   "source": [
    "string='Hello hello hi hi bye bye tata tata'\n",
    "pattern=r\"\\b(\\w+)(?:\\W+\\1\\b)+\"\n",
    "matches=re.sub(pattern,r\"\\1\", string, flags=re.IGNORECASE)\n",
    "print(matches)"
   ]
  },
  {
   "cell_type": "markdown",
   "id": "2a53af08",
   "metadata": {},
   "source": [
    "# Question 26-\n",
    "Write a python program using RegEx to accept string ending with alphanumeric character."
   ]
  },
  {
   "cell_type": "code",
   "execution_count": 28,
   "id": "7aa4d3e9",
   "metadata": {},
   "outputs": [
    {
     "name": "stdout",
     "output_type": "stream",
     "text": [
      "Pattern Denied\n",
      "Pattern Accepted\n",
      "Pattern Accepted\n",
      "Pattern Accepted\n"
     ]
    }
   ],
   "source": [
    "#defining the function as per question 26\n",
    "def end_alphanumeric(string):\n",
    "    pattern=r\"[A-Za-z0-9]$\"\n",
    "    if re.search(pattern,string):\n",
    "        print(\"Pattern Accepted\")\n",
    "    else:\n",
    "        print(\"Pattern Denied\")\n",
    "\n",
    "end_alphanumeric(\"abgd45*\")\n",
    "end_alphanumeric(\"abgd45\")\n",
    "end_alphanumeric(\"abd4\")\n",
    "end_alphanumeric(\"abgd45*sv6\")\n",
    "        "
   ]
  },
  {
   "cell_type": "markdown",
   "id": "86e1e4c4",
   "metadata": {},
   "source": [
    "# Question 27-\n",
    "Write a python program using RegEx to extract the hashtags.\n",
    "Sample Text: text = \"\"\"RT @kapil_kausik: #Doltiwal I mean #xyzabc is \"hurt\" by #Demonetization as the same has rendered USELESS <ed><U+00A0><U+00BD><ed><U+00B1><U+0089> \"acquired funds\" No wo\"\"\"\n",
    "Output: ['#Doltiwal', '#xyzabc', '#Demonetization']\n"
   ]
  },
  {
   "cell_type": "code",
   "execution_count": 29,
   "id": "b072612b",
   "metadata": {},
   "outputs": [
    {
     "name": "stdout",
     "output_type": "stream",
     "text": [
      "['#Doltiwal', '#xyzabc', '#Demonetization']\n"
     ]
    }
   ],
   "source": [
    "text=\"\"\"RT @kapil_kausik: #Doltiwal I mean #xyzabc is \"hurt\" by #Demonetization as the same has rendered USELESS <U+00A0><U+00BD><U+00B1><U+0089> \"acquired funds\" No wo\"\"\"\n",
    "pattern=\"#\\w+\"\n",
    "matches=re.findall(pattern,text)\n",
    "print(matches)"
   ]
  },
  {
   "cell_type": "markdown",
   "id": "6a610ee3",
   "metadata": {},
   "source": [
    "# Question 28-\n",
    "Write a python program using RegEx to remove <U+..> like symbols\n",
    "Check the below sample text, there are strange symbols something of the sort <U+..> all over the place. You need to come up with a general Regex expression that will cover all such symbols.\n",
    "Sample Text: \"@Jags123456 Bharat band on 28??<ed><U+00A0><U+00BD><ed><U+00B8><U+0082>Those who  are protesting #demonetization  are all different party leaders\"\n",
    "Output: @Jags123456 Bharat band on 28??<ed><ed>Those who  are protesting #demonetization  are all different party leaders\n"
   ]
  },
  {
   "cell_type": "code",
   "execution_count": 30,
   "id": "cdbde470",
   "metadata": {},
   "outputs": [
    {
     "name": "stdout",
     "output_type": "stream",
     "text": [
      "@Jags123456 Bharat band on 28??Those who are protesting #demonetization are all different party leaders\n"
     ]
    }
   ],
   "source": [
    "text=\"@Jags123456 Bharat band on 28??<U+00A0><U+00BD><U+00B8><U+0082>Those who are protesting #demonetization are all different party leaders\"\n",
    "pattern=\"<U\\+\\w{4}>\"\n",
    "replaced_text=re.sub(pattern,\"\",text)\n",
    "print(replaced_text)"
   ]
  },
  {
   "cell_type": "markdown",
   "id": "947cd838",
   "metadata": {},
   "source": [
    "# Question 29- \n",
    "Write a python program to extract dates from the text stored in the text file.\n",
    "Sample Text: Ron was born on 12-09-1992 and he was admitted to school 15-12-1999.\n",
    "Store this sample text in the file and then extract dates.\n"
   ]
  },
  {
   "cell_type": "code",
   "execution_count": 31,
   "id": "23fff919",
   "metadata": {},
   "outputs": [
    {
     "data": {
      "text/plain": [
       "['12-09-1992', '15-12-1999']"
      ]
     },
     "execution_count": 31,
     "metadata": {},
     "output_type": "execute_result"
    }
   ],
   "source": [
    "text=\"Ron was born on 12-09-1992 and he was admitted to school 15-12-1999.\"\n",
    "pattern=\"\\d{2}-\\d{2}-\\d{4}\"\n",
    "re.findall(pattern,text)"
   ]
  },
  {
   "cell_type": "markdown",
   "id": "ca35e96a",
   "metadata": {},
   "source": [
    "# Question 30- \n",
    "Write a Python program to replace all occurrences of a space, comma, or dot with a colon.\n",
    "Sample Text- 'Python Exercises, PHP exercises.'\n",
    "Output: Python:Exercises::PHP:exercises:\n"
   ]
  },
  {
   "cell_type": "code",
   "execution_count": 32,
   "id": "951d3289",
   "metadata": {},
   "outputs": [
    {
     "data": {
      "text/plain": [
       "'Python:Exercises::PHP:exercises:'"
      ]
     },
     "execution_count": 32,
     "metadata": {},
     "output_type": "execute_result"
    }
   ],
   "source": [
    "text=\"Python Exercises, PHP exercises.\"\n",
    "pattern=\"[,\\.\\s]\"\n",
    "re.sub(pattern,\":\",text)"
   ]
  }
 ],
 "metadata": {
  "kernelspec": {
   "display_name": "Python 3 (ipykernel)",
   "language": "python",
   "name": "python3"
  },
  "language_info": {
   "codemirror_mode": {
    "name": "ipython",
    "version": 3
   },
   "file_extension": ".py",
   "mimetype": "text/x-python",
   "name": "python",
   "nbconvert_exporter": "python",
   "pygments_lexer": "ipython3",
   "version": "3.9.13"
  }
 },
 "nbformat": 4,
 "nbformat_minor": 5
}
